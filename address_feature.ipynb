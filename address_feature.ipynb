{
 "cells": [
  {
   "cell_type": "code",
   "execution_count": 1,
   "metadata": {},
   "outputs": [],
   "source": [
    "import pandas as pd\n",
    "import numpy as np\n",
    "import os\n",
    "import lightgbm as lgb\n",
    "from sklearn.ensemble import RandomForestClassifier\n",
    "from sklearn.ensemble import RandomForestRegressor\n",
    "from sklearn.metrics import accuracy_score, f1_score, precision_score, auc, roc_curve, recall_score\n",
    "from sklearn.metrics import accuracy_score, f1_score, precision_score, auc, roc_curve, recall_score\n",
    "import warnings \n",
    "warnings.filterwarnings(\"ignore\") \n",
    "import random\n",
    "from datetime import timedelta"
   ]
  },
  {
   "cell_type": "code",
   "execution_count": 2,
   "metadata": {},
   "outputs": [],
   "source": [
    "PARENT_FOLDER = '../data'\n",
    "\n",
    "\n",
    "kernel_train_path = 'memory_sample_kernel_log_round1_a_train.csv'\n",
    "failure_train_path = 'memory_sample_failure_tag_round1_a_train.csv'\n",
    "adress_train_path = 'memory_sample_address_log_round1_a_train.csv'\n",
    "\n",
    "\n",
    "kernel_test_path = 'memory_sample_kernel_log_round1_b_test.csv'\n",
    "failure_test_path = 'memory_sample_failure_tag_round1_b_test.csv'\n",
    "adress_test_path = 'memory_sample_address_log_round1_b_test.csv'"
   ]
  },
  {
   "cell_type": "code",
   "execution_count": 3,
   "metadata": {},
   "outputs": [],
   "source": [
    "def label(x):\n",
    "    if x<=60*60*24*7:\n",
    "        return 1\n",
    "    else:\n",
    "        return 0"
   ]
  },
  {
   "cell_type": "code",
   "execution_count": 4,
   "metadata": {},
   "outputs": [],
   "source": [
    "kernel_var = ['1_hwerr_f', '1_hwerr_e', '2_hwerr_c', '2_sel', '3_hwerr_n', '2_hwerr_s', '3_hwerr_m', '1_hwerr_st',\n",
    "       '1_hw_mem_c', '3_hwerr_p', '2_hwerr_ce', '3_hwerr_as', '1_ke', '2_hwerr_p', '3_hwerr_kp', '1_hwerr_fl', '3_hwerr_r', '_hwerr_cd',\n",
    "       '3_sup_mce_note', '3_cmci_sub', '3_cmci_det', '3_hwerr_pi', '3_hwerr_o', '3_hwerr_mce_l']"
   ]
  },
  {
   "cell_type": "code",
   "execution_count": 5,
   "metadata": {},
   "outputs": [],
   "source": [
    "def etl_kernel(path, agg_time,time):\n",
    "    data = pd.read_csv(os.path.join(PARENT_FOLDER, path))\n",
    "    data['collect_time'] = pd.to_datetime(data['collect_time']).dt.floor(agg_time)\n",
    "    data['count'+time] = 1\n",
    "    \n",
    "    if 'tag' in data.columns:\n",
    "        del data['tag']\n",
    "        del data['failure_time']\n",
    "    \n",
    "    group_data = data.groupby(['serial_number','manufacturer','vendor','collect_time'],as_index=False).agg('sum')\n",
    "\n",
    "    return group_data"
   ]
  },
  {
   "cell_type": "code",
   "execution_count": 6,
   "metadata": {},
   "outputs": [],
   "source": [
    "def getLabel(label_path, kernel_df):\n",
    "    failure_tag = pd.read_csv(os.path.join(PARENT_FOLDER,label_path))\n",
    "    failure_tag['failure_time']= pd.to_datetime(failure_tag['failure_time'])\n",
    "    merged_kernel = pd.merge(kernel_df,failure_tag[['serial_number',\n",
    "                                               'manufacturer','vendor','failure_time']],how='left',on=['serial_number',\n",
    "                                                                                                       'manufacturer','vendor'])\n",
    "    merged_kernel['diff_seconds'] = (merged_kernel['failure_time'] - merged_kernel['collect_time']).dt.days*24*60*60 \\\n",
    "                                + ((merged_kernel['failure_time']-merged_kernel['collect_time']).dt.seconds)\n",
    "    merged_kernel['label'] = merged_kernel['diff_seconds'].map(label)\n",
    "    return merged_kernel"
   ]
  },
  {
   "cell_type": "code",
   "execution_count": 7,
   "metadata": {},
   "outputs": [],
   "source": [
    "def sta_repeat(x):\n",
    "    n = 0\n",
    "    for i in set(x):\n",
    "        if x.count(i) > 1:\n",
    "            n += 1\n",
    "    return n"
   ]
  },
  {
   "cell_type": "code",
   "execution_count": 8,
   "metadata": {},
   "outputs": [],
   "source": [
    "def sta_max(x):\n",
    "    ls = []\n",
    "    for i in set(x):\n",
    "        ls.append(x.count(i))\n",
    "    return max(ls)"
   ]
  },
  {
   "cell_type": "code",
   "execution_count": 9,
   "metadata": {},
   "outputs": [],
   "source": [
    "def get_Feature(address):\n",
    "    address['collect_time'] = pd.to_datetime(address['collect_time']).dt.floor('2min')\n",
    "    address_row = address[['serial_number','collect_time','row']].groupby(['serial_number','collect_time'],as_index=False).agg(list)\n",
    "    address_col = address[['serial_number','collect_time','col']].groupby(['serial_number','collect_time'],as_index=False).agg(list)\n",
    "    address_row['row_repeat'] = address_row['row'].map(sta_repeat)\n",
    "    address_col['col_repeat'] = address_col['col'].map(sta_repeat)\n",
    "    address_row['row_max'] = address_row['row'].map(sta_max)\n",
    "    address_col['col_max'] = address_col['col'].map(sta_max)\n",
    "    address_row['row_num'] = address_row['row'].apply(lambda x: len(set(x)))\n",
    "    address_col['col_num'] = address_col['col'].apply(lambda x: len(set(x)))\n",
    "    address_sta = pd.merge(address_col,address_row[['serial_number','collect_time','row_num','row_max','row_repeat']],how='left',on=['serial_number','collect_time'])\n",
    "    return address_sta"
   ]
  },
  {
   "cell_type": "code",
   "execution_count": 10,
   "metadata": {},
   "outputs": [],
   "source": [
    "failure_tag = pd.read_csv('../data/memory_sample_failure_tag_round1_a_train.csv')\n",
    "failure_tag['failure_time']= pd.to_datetime(failure_tag['failure_time'])"
   ]
  },
  {
   "cell_type": "code",
   "execution_count": 11,
   "metadata": {},
   "outputs": [],
   "source": [
    "failure_data = pd.read_csv('../data/memory_sample_failure_tag_round1_b_test.csv')\n",
    "failure_data['failure_time'] = pd.to_datetime(failure_data['failure_time'])"
   ]
  },
  {
   "cell_type": "code",
   "execution_count": 12,
   "metadata": {},
   "outputs": [],
   "source": [
    "address_a = pd.read_csv('../data/memory_sample_address_log_round1_a_train.csv')\n",
    "address_b = pd.read_csv('../data/memory_sample_address_log_round1_b_test.csv')"
   ]
  },
  {
   "cell_type": "code",
   "execution_count": 13,
   "metadata": {},
   "outputs": [],
   "source": [
    "address_sta_train = get_Feature(address_a)\n",
    "address_sta_test = get_Feature(address_b)"
   ]
  },
  {
   "cell_type": "code",
   "execution_count": 14,
   "metadata": {},
   "outputs": [],
   "source": [
    "address_sta_train.to_csv(\"address_sta_train.csv\")\n",
    "address_sta_test.to_csv(\"address_sta_test.csv\")"
   ]
  },
  {
   "cell_type": "code",
   "execution_count": null,
   "metadata": {},
   "outputs": [],
   "source": []
  }
 ],
 "metadata": {
  "kernelspec": {
   "display_name": "Python 3",
   "language": "python",
   "name": "python3"
  },
  "language_info": {
   "codemirror_mode": {
    "name": "ipython",
    "version": 3
   },
   "file_extension": ".py",
   "mimetype": "text/x-python",
   "name": "python",
   "nbconvert_exporter": "python",
   "pygments_lexer": "ipython3",
   "version": "3.8.3"
  }
 },
 "nbformat": 4,
 "nbformat_minor": 4
}
